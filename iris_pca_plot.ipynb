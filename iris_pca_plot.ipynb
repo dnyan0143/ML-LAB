{
 "cells": [
  {
   "cell_type": "code",
   "execution_count": null,
   "id": "dc5e2865",
   "metadata": {},
   "outputs": [],
   "source": [
    "import numpy as np\n",
    "import matplotlib.pyplot as plt\n",
    "from sklearn.decomposition import PCA\n",
    "from sklearn.preprocessing import StandardScaler\n",
    "from sklearn.datasets import load_iris\n"
   ]
  },
  {
   "cell_type": "code",
   "execution_count": null,
   "id": "b8d600d3",
   "metadata": {},
   "outputs": [],
   "source": [
    "# Load the Iris dataset\n",
    "data = load_iris()\n",
    "X = data.data\n",
    "y = data.target\n"
   ]
  },
  {
   "cell_type": "code",
   "execution_count": null,
   "id": "a0695ee8",
   "metadata": {},
   "outputs": [],
   "source": [
    "# Standardize the features\n",
    "scaler = StandardScaler()\n",
    "X_scaled = scaler.fit_transform(X)\n"
   ]
  },
  {
   "cell_type": "code",
   "execution_count": null,
   "id": "3c29c5c1",
   "metadata": {},
   "outputs": [],
   "source": [
    "# Apply PCA to reduce to 2 components\n",
    "pca = PCA(n_components=2)\n",
    "X_pca = pca.fit_transform(X_scaled)\n"
   ]
  },
  {
   "cell_type": "code",
   "execution_count": null,
   "id": "54cc91a1",
   "metadata": {},
   "outputs": [],
   "source": [
    "# Explained variance for each principal component\n",
    "explained_variance = pca.explained_variance_ratio_\n",
    "print(f'Explained variance by each component: {explained_variance}')\n"
   ]
  },
  {
   "cell_type": "code",
   "execution_count": null,
   "id": "d64089e0",
   "metadata": {},
   "outputs": [],
   "source": [
    "# Plotting the PCA-transformed data\n",
    "plt.figure(figsize=(8,6))\n",
    "scatter = plt.scatter(X_pca[:, 0], X_pca[:, 1], c=y, cmap='viridis', edgecolor='k', s=100)\n",
    "plt.title('PCA of Iris Dataset')\n",
    "plt.xlabel(f'Principal Component 1 ({explained_variance[0]:.2f} variance)')\n",
    "plt.ylabel(f'Principal Component 2 ({explained_variance[1]:.2f} variance)')\n",
    "plt.colorbar(scatter, label='Iris Species')\n",
    "plt.grid(True)\n",
    "plt.show()\n"
   ]
  }
 ],
 "metadata": {},
 "nbformat": 4,
 "nbformat_minor": 5
}
